{
 "cells": [
  {
   "cell_type": "markdown",
   "metadata": {},
   "source": [
    "1.define the half-circle function\n",
    "2.do a for loop to sum the area of each rectangle.\n",
    "3.pi is 2* the total area"
   ]
  },
  {
   "cell_type": "code",
   "execution_count": 27,
   "metadata": {},
   "outputs": [],
   "source": [
    "import numpy as np\n",
    "import timeit"
   ]
  },
  {
   "cell_type": "code",
   "execution_count": 28,
   "metadata": {},
   "outputs": [],
   "source": [
    "#hw01-1\n",
    "\n",
    "def calculate_pi_naive(N):\n",
    "    dx = 2. / N\n",
    "    area=0\n",
    "    for i in range(N):\n",
    "        x = -1 + i*dx\n",
    "        y = np.sqrt(1. - x**2)\n",
    "        area += dx*y\n",
    "    return 2*area\n",
    "\n",
    "def calculate_pi_sum(N):\n",
    "    xx = np.linspace(-1,1,N)\n",
    "    circ = lambda x: np.sqrt(1.-x**2)\n",
    "    hh = circ(xx)\n",
    "    dx = 2. / (N-1)\n",
    "    return 2*sum(hh)*dx\n",
    "\n",
    "def calculate_pi_npsum(N):\n",
    "    xx = np.linspace(-1,1,N)\n",
    "    circ = lambda x: np.sqrt(1.-x**2)\n",
    "    hh = circ(xx)\n",
    "    dx = 2. / (N-1)\n",
    "    return 2*np.sum(hh)*dx"
   ]
  },
  {
   "cell_type": "code",
   "execution_count": 29,
   "metadata": {},
   "outputs": [
    {
     "name": "stdout",
     "output_type": "stream",
     "text": [
      "3.141589327430582\n",
      "3.1415925484068445\n",
      "3.141592650263455\n",
      "3.1415893269315984\n",
      "3.1415893269315975\n"
     ]
    }
   ],
   "source": [
    "pi_1_1= calculuate_pi_naive(N=10000)\n",
    "print(pi_1_1)\n",
    "pi_1_2= calculuate_pi_naive(N=100000)\n",
    "print(pi_1_2)\n",
    "pi_1_3= calculuate_pi_naive(N=1000000)\n",
    "print(pi_1_3)\n",
    "\n",
    "pi_2 = calculate_pi_sum(N=10000)\n",
    "print(pi_2)\n",
    "pi_3 = calculate_pi_npsum(N=10000)\n",
    "print(pi_3)\n"
   ]
  },
  {
   "cell_type": "code",
   "execution_count": 30,
   "metadata": {},
   "outputs": [
    {
     "name": "stdout",
     "output_type": "stream",
     "text": [
      "10.2 ms ± 142 µs per loop (mean ± std. dev. of 7 runs, 100 loops each)\n"
     ]
    }
   ],
   "source": [
    "%timeit calculate_pi_naive(N=10000)"
   ]
  },
  {
   "cell_type": "code",
   "execution_count": 31,
   "metadata": {},
   "outputs": [
    {
     "name": "stdout",
     "output_type": "stream",
     "text": [
      "789 µs ± 16.4 µs per loop (mean ± std. dev. of 7 runs, 1,000 loops each)\n"
     ]
    }
   ],
   "source": [
    "%timeit calculate_pi_sum(N=10000)"
   ]
  },
  {
   "cell_type": "code",
   "execution_count": 32,
   "metadata": {},
   "outputs": [
    {
     "name": "stdout",
     "output_type": "stream",
     "text": [
      "73.6 µs ± 493 ns per loop (mean ± std. dev. of 7 runs, 10,000 loops each)\n"
     ]
    }
   ],
   "source": [
    "%timeit calculate_pi_npsum(N=10000)"
   ]
  }
 ],
 "metadata": {
  "kernelspec": {
   "display_name": "Python 3.9.13 ('comphyslab')",
   "language": "python",
   "name": "python3"
  },
  "language_info": {
   "codemirror_mode": {
    "name": "ipython",
    "version": 3
   },
   "file_extension": ".py",
   "mimetype": "text/x-python",
   "name": "python",
   "nbconvert_exporter": "python",
   "pygments_lexer": "ipython3",
   "version": "3.9.13"
  },
  "orig_nbformat": 4,
  "vscode": {
   "interpreter": {
    "hash": "4f77990a77ab9e056135a9a7488545ecd554a1a26b9548242589fdbe31471593"
   }
  }
 },
 "nbformat": 4,
 "nbformat_minor": 2
}
