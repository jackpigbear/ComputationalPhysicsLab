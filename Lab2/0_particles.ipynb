{
 "cells": [
  {
   "cell_type": "code",
   "execution_count": 1,
   "metadata": {},
   "outputs": [],
   "source": [
    "import numpy as np\n",
    "import matplotlib.pyplot as plt\n",
    "from nbody import Particles"
   ]
  },
  {
   "cell_type": "markdown",
   "metadata": {},
   "source": [
    "# The Particles class\n",
    "\n",
    "We could use it to handle the particle information.\n",
    "\n",
    "The class contains several properties, including tag, mass, position, velocity, acceleration, and time.\n",
    "\n",
    "For our own convenience, we want to the below data type to handle the N-body simulation:"
   ]
  },
  {
   "cell_type": "code",
   "execution_count": 2,
   "metadata": {},
   "outputs": [],
   "source": [
    "time          = 0    # the starting  time\n",
    "num_particles = 100  # number of particles\n",
    "masses        = np.ones((num_particles,1))\n",
    "positions     = np.zeros((num_particles,3)) # 3 directions\n",
    "velocities    = np.zeros((num_particles,3))\n",
    "accelerations = np.zeros((num_particles,3))\n",
    "tags          = np.linspace(1,num_particles,num_particles)"
   ]
  },
  {
   "cell_type": "markdown",
   "metadata": {},
   "source": [
    "Note that, the mass is setting to a Nx1 martrix.\\\n",
    "The reason to use Nx1 matrix but not a numpy array is because mass x velcoity is the momentum\\\n",
    "and only Nx1 matrix could multiple with an Nx3 matrix. "
   ]
  },
  {
   "cell_type": "markdown",
   "metadata": {},
   "source": [
    "We hope that could initialze particles by typing the below code.\\\n",
    "The particle class with prepare empty arrays and matrix for later on setup."
   ]
  },
  {
   "cell_type": "code",
   "execution_count": 3,
   "metadata": {},
   "outputs": [],
   "source": [
    "particles = Particles(N=num_particles)"
   ]
  },
  {
   "cell_type": "markdown",
   "metadata": {},
   "source": [
    "The `Particles` class should handle the below APIs to setup particles"
   ]
  },
  {
   "cell_type": "code",
   "execution_count": 4,
   "metadata": {},
   "outputs": [],
   "source": [
    "particles.set_masses(masses=masses)\n",
    "particles.set_positions(positions=positions)\n",
    "particles.set_velocities(velocities=velocities)\n",
    "particles.set_accelerations(accelerations=accelerations)\n",
    "particles.set_tags(tags=tags)\n",
    "\n",
    "#把數據傳到class"
   ]
  },
  {
   "cell_type": "markdown",
   "metadata": {},
   "source": [
    "The `Particles` class should have the below APIs to get particle properties."
   ]
  },
  {
   "cell_type": "code",
   "execution_count": 5,
   "metadata": {},
   "outputs": [
    {
     "name": "stdout",
     "output_type": "stream",
     "text": [
      "[ True  True  True  True  True  True  True  True  True  True  True  True\n",
      "  True  True  True  True  True  True  True  True  True  True  True  True\n",
      "  True  True  True  True  True  True  True  True  True  True  True  True\n",
      "  True  True  True  True  True  True  True  True  True  True  True  True\n",
      "  True  True  True  True  True  True  True  True  True  True  True  True\n",
      "  True  True  True  True  True  True  True  True  True  True  True  True\n",
      "  True  True  True  True  True  True  True  True  True  True  True  True\n",
      "  True  True  True  True  True  True  True  True  True  True  True  True\n",
      "  True  True  True  True]\n"
     ]
    }
   ],
   "source": [
    "tags_check          = particles.get_tags()\n",
    "masses        = particles.get_masses()\n",
    "positions     = particles.get_positions()\n",
    "velocities    = particles.get_velocities()\n",
    "accelerations = particles.get_accelerations()\n",
    "\n",
    "#check class getter\n",
    "print(tags_check==tags)"
   ]
  },
  {
   "cell_type": "markdown",
   "metadata": {},
   "source": [
    "We could also dump the particle information into a text file."
   ]
  },
  {
   "cell_type": "code",
   "execution_count": 6,
   "metadata": {},
   "outputs": [],
   "source": [
    "particles.output(fn=\"data_particles.txt\",time=time)"
   ]
  },
  {
   "cell_type": "markdown",
   "metadata": {},
   "source": [
    "The saved data could be loaded by `numpy.loadtxt`."
   ]
  },
  {
   "cell_type": "code",
   "execution_count": 7,
   "metadata": {},
   "outputs": [],
   "source": [
    "t,m,x,y,z,vx,vy,vz,ax,ay,az = np.loadtxt(\"data_particles.txt\")"
   ]
  },
  {
   "cell_type": "markdown",
   "metadata": {},
   "source": [
    "## Exercise 1.\n",
    "\n",
    "Implement the `Particles` class in `nbody.py`\\\n",
    "make sure your `Particles` can handle all above functions correctly."
   ]
  },
  {
   "cell_type": "markdown",
   "metadata": {},
   "source": [
    "## Exercie 2.\n",
    "\n",
    "Once you have the `Particles` class implmented correctly.\\\n",
    "You should be able to use it to initialzie arbitry distribution of N particles.\n",
    "\n",
    "(1) Initialize two particles that describe the Sun-Earth binary system.\n",
    "\n",
    "(2) Initialize a 3D particle clould with N particles in a normal distrbuiotn (sigma=1) and total mass equal to 10.\n",
    "\n",
    "Hints: use `numpy.random.randn` (see https://numpy.org/doc/stable/reference/random/generated/numpy.random.randn.html). "
   ]
  },
  {
   "cell_type": "code",
   "execution_count": 8,
   "metadata": {},
   "outputs": [],
   "source": [
    "# TODO:\n",
    "from os import sep\n",
    "\n",
    "def initial_SolarSystem(N=2):\n",
    "\n",
    "    if not N == 2 :\n",
    "        print(\"Error\")\n",
    "        quit()\n",
    "    \n",
    "    msun   = 1.989e33   # gram\n",
    "    mearth = 5.97219e27 # gram\n",
    "    G      = 6.67e-8   # cgs\n",
    "    seperation    = 1.496e13   # cm\n",
    "    period = np.sqrt(4 * np.pi**2 * seperation**3/(G*(msun+mearth)))\n",
    "    xsun = -mearth/(msun+mearth)*seperation\n",
    "    xearth = msun/(msun+mearth)*seperation\n",
    "    vsun = 2*np.pi*xsun/period\n",
    "    vearth =  -2*np.pi*xearth/period\n",
    "    force = G*msun*mearth/seperation\n",
    "    asun = force / msun\n",
    "    aearth = force / mearth\n",
    "    \n",
    "    #some B.C of solar system\n",
    "    particles = Particles (N=N)\n",
    "    masses = particles.get_masses()\n",
    "    masses[0,0] = msun\n",
    "    masses[1,0] = mearth\n",
    "\n",
    "    positions = particles.get_positions()\n",
    "    positions[0,0] = xsun\n",
    "    positions[1,0] = xearth\n",
    "\n",
    "    velocities = particles.get_velocities()\n",
    "    velocities[0,1] = vsun\n",
    "    velocities[1,1] = vearth\n",
    "\n",
    "    accelerations = particles.get_accelerations()\n",
    "    accelerations[0,0] = asun\n",
    "    accelerations[1,0] = aearth\n",
    "\n",
    "    particles.set_masses(masses)\n",
    "    particles.set_positions(positions)\n",
    "    particles.set_velocities(velocities)\n",
    "    particles.set_accelerations(accelerations)\n",
    "    return particles"
   ]
  },
  {
   "cell_type": "code",
   "execution_count": 9,
   "metadata": {},
   "outputs": [
    {
     "data": {
      "text/plain": [
       "array([[-1.5039458 ,  0.00691032,  0.00935318],\n",
       "       [-1.72435466, -0.9495114 ,  1.07635843],\n",
       "       [-0.42830164,  0.68679772,  0.05520975],\n",
       "       [ 0.73573707,  1.50759995, -1.14327075],\n",
       "       [-1.78101172,  0.10240411,  1.29376152],\n",
       "       [-1.39780014, -2.63438261, -0.27238441],\n",
       "       [ 1.42419457,  0.0644123 , -0.70847743],\n",
       "       [ 1.61685221, -1.26156075,  0.42925082],\n",
       "       [-1.41840031, -1.3020997 ,  0.69260341],\n",
       "       [ 0.05959849,  1.07936715,  0.24638295]])"
      ]
     },
     "execution_count": 9,
     "metadata": {},
     "output_type": "execute_result"
    }
   ],
   "source": [
    "np.random.randn(10,3)"
   ]
  },
  {
   "cell_type": "code",
   "execution_count": 10,
   "metadata": {},
   "outputs": [],
   "source": [
    "# TODO:\n",
    "def initial_NormalDistribution(N=1, total_mass=10, amp=1 , sigma=1):\n",
    "    particles = Particles(N)\n",
    "    masses = particles.get_masses()\n",
    "    mass = total_mass/particles.nparticles\n",
    "    particles.set_masses((masses*mass))\n",
    "    positions = np.random.randn(N,3)\n",
    "    velocities = np.random.randn(N,3)\n",
    "    accelerations = np.random.randn(N,3)\n",
    "    particles.set_positions(positions)\n",
    "    particles.set_velocities(velocities)\n",
    "    particles.set_accelerations(accelerations)\n",
    "    return particles"
   ]
  },
  {
   "cell_type": "markdown",
   "metadata": {},
   "source": [
    "### Visualzie your particles\n",
    "\n",
    "Please visualzie the particles you asigned in the previous exercise. \n",
    "\n",
    "(a) Make a 2D projected plot on the x-y plane. \n",
    "\n",
    "(b) Make a 3D distribution of your particles."
   ]
  },
  {
   "cell_type": "code",
   "execution_count": 11,
   "metadata": {},
   "outputs": [
    {
     "data": {
      "text/plain": [
       "<matplotlib.collections.PathCollection at 0x11c5efc70>"
      ]
     },
     "execution_count": 11,
     "metadata": {},
     "output_type": "execute_result"
    },
    {
     "data": {
      "image/png": "[encoded data removed]",
      "text/plain": [
       "<Figure size 640x480 with 1 Axes>"
      ]
     },
     "metadata": {},
     "output_type": "display_data"
    }
   ],
   "source": [
    "#TODO: visualzie your particles\n",
    "particles_solar = initial_SolarSystem()\n",
    "positions = particles_solar.get_positions()\n",
    "plt.figure(1)\n",
    "plt.scatter(positions[:,0],positions[:,1])"
   ]
  },
  {
   "cell_type": "code",
   "execution_count": 12,
   "metadata": {},
   "outputs": [
    {
     "name": "stderr",
     "output_type": "stream",
     "text": [
      "/var/folders/l2/5pc_8lzn0v1f7vtm4p89k28m0000gn/T/ipykernel_4797/2860157350.py:4: MatplotlibDeprecationWarning: Calling gca() with keyword arguments was deprecated in Matplotlib 3.4. Starting two minor releases later, gca() will take no keyword arguments. The gca() function should only be used to get the current axes, or if no axes exist, create new axes with default keyword arguments. To create a new axes with non-default arguments, use plt.axes() or plt.subplot().\n",
      "  ax = fig.gca(projection='3d')\n"
     ]
    },
    {
     "data": {
      "text/plain": [
       "<mpl_toolkits.mplot3d.art3d.Path3DCollection at 0x11c70e2f0>"
      ]
     },
     "execution_count": 12,
     "metadata": {},
     "output_type": "execute_result"
    },
    {
     "data": {
      "image/png": "[encoded data removed]",
      "text/plain": [
       "<Figure size 640x480 with 1 Axes>"
      ]
     },
     "metadata": {},
     "output_type": "display_data"
    }
   ],
   "source": [
    "particles_cloud = initial_NormalDistribution(N=10000)\n",
    "pos = particles_cloud.get_positions() #why\n",
    "fig = plt.figure(1)\n",
    "ax = fig.gca(projection='3d')\n",
    "ax.scatter(pos[:,0],pos[:,1],pos[:,2])"
   ]
  },
  {
   "cell_type": "markdown",
   "metadata": {},
   "source": [
    "## Use `@property` \n",
    "\n",
    "We could actually use python's `@property` to replace the getter and setter in `Particles` class.\\\n",
    "\n",
    "For example,"
   ]
  },
  {
   "cell_type": "code",
   "execution_count": 13,
   "metadata": {},
   "outputs": [],
   "source": [
    "class foo:\n",
    "    def __init__(self):\n",
    "        self._x = 0\n",
    "        return\n",
    "    def get_x(self):\n",
    "        return self._x\n",
    "    def set_x(self, value):\n",
    "        self._x = value\n",
    "        return"
   ]
  },
  {
   "cell_type": "code",
   "execution_count": 14,
   "metadata": {},
   "outputs": [
    {
     "name": "stdout",
     "output_type": "stream",
     "text": [
      "3\n"
     ]
    }
   ],
   "source": [
    "a = foo()\n",
    "a.x = 3\n",
    "value = a.x\n",
    "print(value)"
   ]
  },
  {
   "cell_type": "markdown",
   "metadata": {},
   "source": [
    "The above code is equivalent to"
   ]
  },
  {
   "cell_type": "code",
   "execution_count": 15,
   "metadata": {},
   "outputs": [],
   "source": [
    "class foo2:\n",
    "    def __init__(self):\n",
    "        self._x = 0\n",
    "        return\n",
    "    @property\n",
    "    def x(self):\n",
    "        return self._x\n",
    "\n",
    "    @x.setter\n",
    "    def x(self, value):\n",
    "        self._x = value\n",
    "        return"
   ]
  },
  {
   "cell_type": "code",
   "execution_count": 16,
   "metadata": {},
   "outputs": [
    {
     "name": "stdout",
     "output_type": "stream",
     "text": [
      "3\n"
     ]
    }
   ],
   "source": [
    "a = foo2()\n",
    "a.x = 3\n",
    "value = a.x\n",
    "print(value)"
   ]
  },
  {
   "cell_type": "code",
   "execution_count": null,
   "metadata": {},
   "outputs": [],
   "source": []
  }
 ],
 "metadata": {
  "kernelspec": {
   "display_name": "Python 3.10.0 64-bit",
   "language": "python",
   "name": "python3"
  },
  "language_info": {
   "codemirror_mode": {
    "name": "ipython",
    "version": 3
   },
   "file_extension": ".py",
   "mimetype": "text/x-python",
   "name": "python",
   "nbconvert_exporter": "python",
   "pygments_lexer": "ipython3",
   "version": "3.10.0"
  },
  "orig_nbformat": 4,
  "vscode": {
   "interpreter": {
    "hash": "aee8b7b246df8f9039afb4144a1f6fd8d2ca17a180786b69acc140d282b71a49"
   }
  }
 },
 "nbformat": 4,
 "nbformat_minor": 2
}
