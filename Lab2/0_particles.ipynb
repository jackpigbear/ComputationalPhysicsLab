{
 "cells": [
  {
   "cell_type": "code",
   "execution_count": 1,
   "metadata": {},
   "outputs": [],
   "source": [
    "import numpy as np\n",
    "import matplotlib.pyplot as plt\n",
    "from nbody import Particles"
   ]
  },
  {
   "cell_type": "markdown",
   "metadata": {},
   "source": [
    "# The Particles class\n",
    "\n",
    "We could use it to handle the particle information.\n",
    "\n",
    "The class contains several properties, including tag, mass, position, velocity, acceleration, and time.\n",
    "\n",
    "For our own convenience, we want to the below data type to handle the N-body simulation:"
   ]
  },
  {
   "cell_type": "code",
   "execution_count": 2,
   "metadata": {},
   "outputs": [],
   "source": [
    "time          = 0    # the starting  time\n",
    "num_particles = 100  # number of particles\n",
    "masses        = np.ones((num_particles,1))\n",
    "positions     = np.zeros((num_particles,3)) # 3 directions\n",
    "velocities    = np.zeros((num_particles,3))\n",
    "accelerations = np.zeros((num_particles,3))\n",
    "tags          = np.linspace(1,num_particles,num_particles)"
   ]
  },
  {
   "cell_type": "markdown",
   "metadata": {},
   "source": [
    "Note that, the mass is setting to a Nx1 martrix.\\\n",
    "The reason to use Nx1 matrix but not a numpy array is because mass x velcoity is the momentum\\\n",
    "and only Nx1 matrix could multiple with an Nx3 matrix. "
   ]
  },
  {
   "cell_type": "markdown",
   "metadata": {},
   "source": [
    "We hope that could initialze particles by typing the below code.\\\n",
    "The particle class with prepare empty arrays and matrix for later on setup."
   ]
  },
  {
   "cell_type": "code",
   "execution_count": 3,
   "metadata": {},
   "outputs": [],
   "source": [
    "particles = Particles(N=num_particles)"
   ]
  },
  {
   "cell_type": "markdown",
   "metadata": {},
   "source": [
    "The `Particles` class should handle the below APIs to setup particles"
   ]
  },
  {
   "cell_type": "code",
   "execution_count": 5,
   "metadata": {},
   "outputs": [],
   "source": [
    "particles.set_masses(masses=masses)\n",
    "particles.set_positions(positions=positions)\n",
    "particles.set_velocities(velocities=velocities)\n",
    "particles.set_accelerations(accelerations=accelerations)\n",
    "particles.set_tags(tags=tags)\n",
    "\n",
    "#把數據傳到class"
   ]
  },
  {
   "cell_type": "markdown",
   "metadata": {},
   "source": [
    "The `Particles` class should have the below APIs to get particle properties."
   ]
  },
  {
   "cell_type": "code",
   "execution_count": 8,
   "metadata": {},
   "outputs": [
    {
     "name": "stdout",
     "output_type": "stream",
     "text": [
      "[ True  True  True  True  True  True  True  True  True  True  True  True\n",
      "  True  True  True  True  True  True  True  True  True  True  True  True\n",
      "  True  True  True  True  True  True  True  True  True  True  True  True\n",
      "  True  True  True  True  True  True  True  True  True  True  True  True\n",
      "  True  True  True  True  True  True  True  True  True  True  True  True\n",
      "  True  True  True  True  True  True  True  True  True  True  True  True\n",
      "  True  True  True  True  True  True  True  True  True  True  True  True\n",
      "  True  True  True  True  True  True  True  True  True  True  True  True\n",
      "  True  True  True  True]\n"
     ]
    }
   ],
   "source": [
    "tags_check          = particles.get_tags()\n",
    "masses        = particles.get_masses()\n",
    "positions     = particles.get_positions()\n",
    "velocities    = particles.get_velocities()\n",
    "accelerations = particles.get_accelerations()\n",
    "\n",
    "#check class getter\n",
    "print(tags_check==tags)"
   ]
  },
  {
   "cell_type": "markdown",
   "metadata": {},
   "source": [
    "We could also dump the particle information into a text file."
   ]
  },
  {
   "cell_type": "code",
   "execution_count": 9,
   "metadata": {},
   "outputs": [],
   "source": [
    "particles.output(fn=\"data_particles.txt\",time=time)"
   ]
  },
  {
   "cell_type": "markdown",
   "metadata": {},
   "source": [
    "The saved data could be loaded by `numpy.loadtxt`."
   ]
  },
  {
   "cell_type": "code",
   "execution_count": 10,
   "metadata": {},
   "outputs": [],
   "source": [
    "t,m,x,y,z,vx,vy,vz,ax,ay,az = np.loadtxt(\"data_particles.txt\")"
   ]
  },
  {
   "cell_type": "markdown",
   "metadata": {},
   "source": [
    "## Exercise 1.\n",
    "\n",
    "Implement the `Particles` class in `nbody.py`\\\n",
    "make sure your `Particles` can handle all above functions correctly."
   ]
  },
  {
   "cell_type": "markdown",
   "metadata": {},
   "source": [
    "## Exercie 2.\n",
    "\n",
    "Once you have the `Particles` class implmented correctly.\\\n",
    "You should be able to use it to initialzie arbitry distribution of N particles.\n",
    "\n",
    "(1) Initialize two particles that describe the Sun-Earth binary system.\n",
    "\n",
    "(2) Initialize a 3D particle clould with N particles in a normal distrbuiotn (sigma=1) and total mass equal to 10.\n",
    "\n",
    "Hints: use `numpy.random.randn` (see https://numpy.org/doc/stable/reference/random/generated/numpy.random.randn.html). "
   ]
  },
  {
   "cell_type": "code",
   "execution_count": null,
   "metadata": {},
   "outputs": [],
   "source": [
    "# TODO:\n",
    "def initial_SolarSystem(N=2):\n",
    "\n",
    "    #some B.C of solar system\n",
    "    return particles"
   ]
  },
  {
   "cell_type": "code",
   "execution_count": null,
   "metadata": {},
   "outputs": [],
   "source": [
    "# TODO:\n",
    "def initial_NormalDistribution(N=1, amp=1 , sigma=1):\n",
    "    return particles"
   ]
  },
  {
   "cell_type": "markdown",
   "metadata": {},
   "source": [
    "### Visualzie your particles\n",
    "\n",
    "Please visualzie the particles you asigned in the previous exercise. \n",
    "\n",
    "(a) Make a 2D projected plot on the x-y plane. \n",
    "\n",
    "(b) Make a 3D distribution of your particles."
   ]
  },
  {
   "cell_type": "code",
   "execution_count": null,
   "metadata": {},
   "outputs": [],
   "source": [
    "#TODO: visualzie your particles\n"
   ]
  },
  {
   "cell_type": "markdown",
   "metadata": {},
   "source": [
    "## Use `@property` \n",
    "\n",
    "We could actually use python's `@property` to replace the getter and setter in `Particles` class.\\\n",
    "\n",
    "For example,"
   ]
  },
  {
   "cell_type": "code",
   "execution_count": null,
   "metadata": {},
   "outputs": [],
   "source": [
    "class foo:\n",
    "    def __init__(self):\n",
    "        self._x = 0\n",
    "        return\n",
    "    def get_x(self):\n",
    "        return self._x\n",
    "    def set_x(self, value):\n",
    "        self._x = value\n",
    "        return"
   ]
  },
  {
   "cell_type": "code",
   "execution_count": null,
   "metadata": {},
   "outputs": [],
   "source": [
    "a = foo()\n",
    "a.x = 3\n",
    "value = a.x\n",
    "print(value)"
   ]
  },
  {
   "cell_type": "markdown",
   "metadata": {},
   "source": [
    "The above code is equivalent to"
   ]
  },
  {
   "cell_type": "code",
   "execution_count": null,
   "metadata": {},
   "outputs": [],
   "source": [
    "class foo2:\n",
    "    def __init__(self):\n",
    "        self._x = 0\n",
    "        return\n",
    "    @property\n",
    "    def x(self):\n",
    "        return self._x\n",
    "\n",
    "    @x.setter\n",
    "    def x(self, value):\n",
    "        self._x = value\n",
    "        return"
   ]
  },
  {
   "cell_type": "code",
   "execution_count": null,
   "metadata": {},
   "outputs": [],
   "source": [
    "a = foo2()\n",
    "a.x = 3\n",
    "value = a.x\n",
    "print(value)"
   ]
  },
  {
   "cell_type": "code",
   "execution_count": null,
   "metadata": {},
   "outputs": [],
   "source": []
  }
 ],
 "metadata": {
  "kernelspec": {
   "display_name": "Python 3.10.0 64-bit",
   "language": "python",
   "name": "python3"
  },
  "language_info": {
   "codemirror_mode": {
    "name": "ipython",
    "version": 3
   },
   "file_extension": ".py",
   "mimetype": "text/x-python",
   "name": "python",
   "nbconvert_exporter": "python",
   "pygments_lexer": "ipython3",
   "version": "3.10.0"
  },
  "orig_nbformat": 4,
  "vscode": {
   "interpreter": {
    "hash": "aee8b7b246df8f9039afb4144a1f6fd8d2ca17a180786b69acc140d282b71a49"
   }
  }
 },
 "nbformat": 4,
 "nbformat_minor": 2
}
