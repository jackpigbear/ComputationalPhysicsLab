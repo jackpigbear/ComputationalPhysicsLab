{
 "cells": [
  {
   "cell_type": "code",
   "execution_count": 100,
   "metadata": {},
   "outputs": [],
   "source": [
    "import numpy as np\n",
    "import matplotlib.pyplot as plt\n",
    "import matplotlib.animation as animation\n",
    "from nbody import Particles, NbodySimulation"
   ]
  },
  {
   "cell_type": "code",
   "execution_count": 101,
   "metadata": {},
   "outputs": [],
   "source": [
    "time          = 0    # the starting  time\n",
    "num_particles = 100 # number of particles\n",
    "masses        = np.ones((num_particles,1))\n",
    "positions     = np.zeros((num_particles,3)) # 3 directions\n",
    "velocities    = np.zeros((num_particles,3))\n",
    "accelerations = np.zeros((num_particles,3))\n",
    "tags          = np.linspace(1,num_particles,num_particles)\n",
    "particles = Particles(N=num_particles)"
   ]
  },
  {
   "cell_type": "code",
   "execution_count": 102,
   "metadata": {},
   "outputs": [],
   "source": [
    "particles.set_masses(masses=masses)\n",
    "particles.set_positions(positions=positions)\n",
    "particles.set_velocities(velocities=velocities)\n",
    "particles.set_accelerations(accelerations=accelerations)\n",
    "particles.set_tags(tags=tags)\n",
    "#把數據傳到class"
   ]
  },
  {
   "cell_type": "code",
   "execution_count": 103,
   "metadata": {},
   "outputs": [],
   "source": [
    "tags_check    = particles.get_tags()\n",
    "masses        = particles.get_masses()\n",
    "positions     = particles.get_positions()\n",
    "velocities    = particles.get_velocities()\n",
    "accelerations = particles.get_accelerations()\n",
    "#check class getter\n",
    "# print(tags_check==tags)\n",
    "particles.output(fn=\"data_particles.txt\",time=time)\n",
    "t,m,x,y,z,vx,vy,vz,ax,ay,az = np.loadtxt(\"data_particles.txt\")"
   ]
  },
  {
   "cell_type": "code",
   "execution_count": 104,
   "metadata": {},
   "outputs": [],
   "source": [
    "\n",
    "def initial_NormalDistribution(N=100,total_mass = 20):\n",
    "    particles = Particles (N=N)\n",
    "\n",
    "    masses = particles.get_masses()\n",
    "    mass = total_mass/particles.nparticles\n",
    "\n",
    "    positions = particles.get_positions()\n",
    "    np.random.seed(0)\n",
    "    positions = np.random.randn(N,3)\n",
    "\n",
    "    velocities = particles.get_velocities()\n",
    "    np.random.seed(0)\n",
    "    velocities = np.random.randn(N,3)\n",
    "    \n",
    "    accelerations = particles.get_accelerations()\n",
    "    np.random.seed(0)\n",
    "    accelerations = np.random.randn(N,3)\n",
    "\n",
    "    particles.set_masses((masses*mass))\n",
    "    particles.set_positions(positions)\n",
    "    particles.set_velocities(velocities)\n",
    "    particles.set_accelerations(accelerations)\n",
    "    return particles"
   ]
  },
  {
   "cell_type": "code",
   "execution_count": 105,
   "metadata": {},
   "outputs": [],
   "source": [
    "# particles_cloud = initial_NormalDistribution(N=100)\n",
    "# positions = particles_cloud.get_positions() \n",
    "# fig = plt.figure(1)\n",
    "# ax = fig.gca(projection='3d')\n",
    "# ax.scatter(positions[:,0],positions[:,1],positions[:,2])"
   ]
  },
  {
   "cell_type": "code",
   "execution_count": 106,
   "metadata": {},
   "outputs": [],
   "source": [
    "problem_name = \"Nbody_simulation\"\n",
    "G      =  6.67e-8 # cgs"
   ]
  },
  {
   "cell_type": "code",
   "execution_count": 107,
   "metadata": {},
   "outputs": [
    {
     "name": "stdout",
     "output_type": "stream",
     "text": [
      "Done!\n"
     ]
    }
   ],
   "source": [
    "particles = Particles(N=100)\n",
    "particles = initial_NormalDistribution(N=100,total_mass = 20)\n",
    "sim = NbodySimulation(particles)\n",
    "sim.setup(G=G,method=\"RK2\",io_freq=10,io_title=problem_name,io_screen=False,visualized=False)\n",
    "sim.evolve(dt=0.01,tmax=10)"
   ]
  },
  {
   "cell_type": "code",
   "execution_count": 108,
   "metadata": {},
   "outputs": [],
   "source": [
    "import glob"
   ]
  },
  {
   "cell_type": "code",
   "execution_count": 109,
   "metadata": {},
   "outputs": [],
   "source": [
    "fns = \"data_\"+problem_name+\"/data_\"+problem_name+\"_[0-9][0-9][0-9][0-9][0-9].txt\"\n",
    "fns = glob.glob(fns)\n",
    "fns.sort()\n",
    "#print(fns) "
   ]
  },
  {
   "cell_type": "code",
   "execution_count": 110,
   "metadata": {},
   "outputs": [
    {
     "data": {
      "image/png": "[encoded data removed]",
      "text/plain": [
       "<Figure size 756x756 with 1 Axes>"
      ]
     },
     "metadata": {},
     "output_type": "display_data"
    }
   ],
   "source": [
    "scale = 3 \n",
    "\n",
    "fig, ax =plt.subplots()\n",
    "fig.set_size_inches(10.5, 10.5, forward=True)\n",
    "fig.set_dpi(72)\n",
    "line, = ax.plot([],[],'o')\n",
    "\n",
    "def init():\n",
    "    ax.set_xlim(-100*scale,100*scale)\n",
    "    ax.set_ylim(-100*scale,100*scale)\n",
    "    ax.set_aspect('equal')\n",
    "    ax.set_xlabel('X [code unit]')\n",
    "    ax.set_ylabel('Y [code unit]')\n",
    "    return line,\n",
    "\n",
    "def updateParticles(frame):\n",
    "    fn = fns[frame]\n",
    "    m,t,x,y,z,vx,vy,vz,ax,ay,az = np.loadtxt(fn)\n",
    "    #print(\"loadtxt done\",fn)\n",
    "    line.set_data(x,y)\n",
    "    plt.title(\"Step =\"+str(frame))\n",
    "    return line,\n",
    "\n",
    "ani = animation.FuncAnimation(fig, updateParticles, frames=len(fns),init_func=init, blit=True)\n",
    "ani.save('movie_'+problem_name+'.mp4',fps=10)"
   ]
  },
  {
   "cell_type": "code",
   "execution_count": 113,
   "metadata": {},
   "outputs": [
    {
     "name": "stdout",
     "output_type": "stream",
     "text": [
      "0.0\n",
      "100\n",
      "100\n",
      "3637.7169334974183\n"
     ]
    }
   ],
   "source": [
    "masses        = particles.get_masses()\n",
    "positions     = particles.get_positions()\n",
    "velocities    = particles.get_velocities()\n",
    "accelerations = particles.get_accelerations()\n",
    "N = 100\n",
    "t = sim.time\n",
    "print(t)\n",
    "\n",
    "# print(velocities[2,2])\n",
    "# print(velocities[2,2]**2)\n",
    "# print(np.sum(velocities[1,:]**2))\n",
    "\n",
    "\n",
    "\n",
    "for i in range(N):\n",
    "    vel_vel=np.sum(velocities**2,axis=1)\n",
    "print(len(vel_vel))\n",
    "print(len(masses))\n",
    "\n",
    "Ek = np.zeros(N)\n",
    "for i in range(N):\n",
    "    Ek[i] = 0.5*masses[i]*vel_vel[i]\n",
    "print(np.sum(Ek))\n",
    "\n",
    "\n",
    "\n",
    "# print(np.sum(Ek))\n",
    "# for i in range(npts):\n",
    "#             for j in range(npts):\n",
    "#                 if(j>i):\n",
    "#                     x = (posx[i] - posx[j])\n",
    "#                     y = (posy[i] - posy[j])\n",
    "#                     z = (posz[i] - posz[j])\n",
    "#                     rsq = x**2 + y**2 + z**2\n",
    "#                     req = np.sqrt(x**2+y**2)\n",
    "#                     force = -G*mass[i,0]*mass[j,0]/(rsq+rsoft)\n",
    "#                     theta = np.arctan2(y,x)\n",
    "#                     phi = np.arctan2(z,req)\n",
    "#                     fx = force*np.cos(theta)*np.cos(phi)\n",
    "#                     fy = force*np.sin(theta)*np.cos(phi)\n",
    "#                     fz = force*np.sin(phi)\n",
    "\n",
    "#                     acc[i,0] += fx/mass[i,0]\n",
    "#                     acc[i,1] += fy/mass[i,0]\n",
    "#                     acc[i,2] += fz/mass[i,0]\n",
    "\n",
    "#                     acc[j,0] -= fx/mass[j,0]\n",
    "#                     acc[j,1] -= fy/mass[j,0]\n",
    "#                     acc[j,2] -= fz/mass[j,0]"
   ]
  }
 ],
 "metadata": {
  "kernelspec": {
   "display_name": "Python 3.9.13 ('comphyslab')",
   "language": "python",
   "name": "python3"
  },
  "language_info": {
   "codemirror_mode": {
    "name": "ipython",
    "version": 3
   },
   "file_extension": ".py",
   "mimetype": "text/x-python",
   "name": "python",
   "nbconvert_exporter": "python",
   "pygments_lexer": "ipython3",
   "version": "3.9.13"
  },
  "orig_nbformat": 4,
  "vscode": {
   "interpreter": {
    "hash": "4f77990a77ab9e056135a9a7488545ecd554a1a26b9548242589fdbe31471593"
   }
  }
 },
 "nbformat": 4,
 "nbformat_minor": 2
}
