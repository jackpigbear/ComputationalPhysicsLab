{
 "cells": [
  {
   "cell_type": "markdown",
   "metadata": {},
   "source": [
    "**##HW01-1##**"
   ]
  },
  {
   "cell_type": "code",
   "execution_count": 2,
   "metadata": {},
   "outputs": [],
   "source": [
    "import numpy as np\n",
    "import timeit\n",
    "import scipy\n",
    "from scipy.special import zeta, polygamma, factorial\n",
    "from scipy.special import gamma, factorial\n",
    "import matplotlib.pyplot as plt"
   ]
  },
  {
   "cell_type": "code",
   "execution_count": 2,
   "metadata": {},
   "outputs": [],
   "source": [
    "\n",
    "def calculate_pi_naive(N):\n",
    "    dx = 2. / N\n",
    "    area=0\n",
    "    for i in range(N):\n",
    "        x = -1 + i*dx\n",
    "        y = np.sqrt(1. - x**2)\n",
    "        area += dx*y\n",
    "    return 2*area\n",
    "\n",
    "def calculate_pi_sum(N):\n",
    "    xx = np.linspace(-1,1,N)\n",
    "    circ = lambda x: np.sqrt(1.-x**2)\n",
    "    hh = circ(xx)\n",
    "    dx = 2. / (N-1)\n",
    "    return 2*sum(hh)*dx\n",
    "\n",
    "def calculate_pi_npsum(N):\n",
    "    xx = np.linspace(-1,1,N)\n",
    "    circ = lambda x: np.sqrt(1.-x**2)\n",
    "    hh = circ(xx)\n",
    "    dx = 2. / (N-1)\n",
    "    return 2*np.sum(hh)*dx"
   ]
  },
  {
   "cell_type": "code",
   "execution_count": 83,
   "metadata": {},
   "outputs": [
    {
     "name": "stdout",
     "output_type": "stream",
     "text": [
      "for_loop_pi(N=10000): 3.141589327430582\n",
      "default_sum_pi(N=10000): 3.1415893269315984\n",
      "numpy_sum_pi(N=10000): 3.1415893269315975\n",
      "3.1415925484068445\n",
      "3.141592650263455\n"
     ]
    }
   ],
   "source": [
    "pi_1_1= calculate_pi_naive(N=10000)\n",
    "print(\"for_loop_pi(N=10000):\",pi_1_1)\n",
    "pi_2 = calculate_pi_sum(N=10000)\n",
    "print(\"default_sum_pi(N=10000):\",pi_2)\n",
    "pi_3 = calculate_pi_npsum(N=10000)\n",
    "print(\"numpy_sum_pi(N=10000):\",pi_3)\n",
    "\n",
    "pi_1_2= calculate_pi_naive(N=100000)\n",
    "print(pi_1_2)\n",
    "pi_1_3= calculate_pi_naive(N=1000000)\n",
    "print(pi_1_3)\n",
    "\n",
    "\n"
   ]
  },
  {
   "cell_type": "code",
   "execution_count": 4,
   "metadata": {},
   "outputs": [
    {
     "name": "stdout",
     "output_type": "stream",
     "text": [
      "10.3 ms ± 261 µs per loop (mean ± std. dev. of 7 runs, 100 loops each)\n"
     ]
    }
   ],
   "source": [
    "%timeit calculate_pi_naive(N=10000)"
   ]
  },
  {
   "cell_type": "code",
   "execution_count": 5,
   "metadata": {},
   "outputs": [
    {
     "name": "stdout",
     "output_type": "stream",
     "text": [
      "794 µs ± 5.09 µs per loop (mean ± std. dev. of 7 runs, 1,000 loops each)\n"
     ]
    }
   ],
   "source": [
    "%timeit calculate_pi_sum(N=10000)"
   ]
  },
  {
   "cell_type": "code",
   "execution_count": 6,
   "metadata": {},
   "outputs": [
    {
     "name": "stdout",
     "output_type": "stream",
     "text": [
      "74.9 µs ± 856 ns per loop (mean ± std. dev. of 7 runs, 10,000 loops each)\n"
     ]
    }
   ],
   "source": [
    "%timeit calculate_pi_npsum(N=10000)"
   ]
  },
  {
   "cell_type": "markdown",
   "metadata": {},
   "source": [
    "**##HW01-2##**"
   ]
  },
  {
   "cell_type": "markdown",
   "metadata": {},
   "source": [
    "$$ u = \\frac{hv}{KT} $$\n",
    "$$ c1 = \\frac{2\\pi h}{c^2} = 4.63 \\times 10^{-50} $$\n",
    "$$ c2 = (\\frac{K}{h})^4 = 1.94 \\times 10^{39} $$\n",
    "$$ T=6000(K)$$\n",
    "$$ all \\ in \\ SI \\ units $$"
   ]
  },
  {
   "cell_type": "code",
   "execution_count": 43,
   "metadata": {},
   "outputs": [
    {
     "name": "stdout",
     "output_type": "stream",
     "text": [
      "5.8329862499041103e-08\n"
     ]
    }
   ],
   "source": [
    "import scipy\n",
    "from scipy.special import zeta, polygamma, factorial\n",
    "from scipy.special import gamma, factorial\n",
    "\n",
    "c1 = 4.63*10**(-50)\n",
    "c2 = 1.94*10**(41)\n",
    "\n",
    "result=c1*c2*zeta(4)*gamma(4)\n",
    "print(result)"
   ]
  },
  {
   "cell_type": "markdown",
   "metadata": {},
   "source": [
    "**##HW01-3##**"
   ]
  },
  {
   "cell_type": "markdown",
   "metadata": {},
   "source": [
    "$F_{drag} = -K\\eta v  \\\\\n",
    " m = 5 (kg),\\ K = 6 \\pi R,\\ R = 0.3 (m) \\\\\n",
    "\\eta_{air} = 2 \\times 10^{-4} ; \\eta_{water} = 0.01 \\\\\n",
    "Target = (x_f,y_f) = (20,0)\\\\\n",
    "u=initial\\_velocity\\\\\n",
    "g = 9.8\\\\\n",
    "all\\_in\\_kms\\\\\n",
    "Solution:\\\\\n",
    "air\\\\\n",
    "(v_{o2}, \\theta_{2})=(15.3,30)\\\\\n",
    "(x_f,y_f)=(20.05,0.014)\\\\\n",
    "(v_{o1},\\theta_{1})=(25,80)\\\\\n",
    "(x_f,y_f)=(20.21,0.0489)\\\\\n",
    "water\\\\\n",
    "(v_{o1},\\theta_{1})=(29,30)\\\\\n",
    "(x_f,y_f)=(19.98,0.064)\\\\\n",
    "(v_{o2}, \\theta_{2})=(132,80)\\\\\n",
    "(x_f,y_f)=(20.03,0.0773)$"
   ]
  },
  {
   "cell_type": "code",
   "execution_count": 42,
   "metadata": {},
   "outputs": [
    {
     "name": "stdout",
     "output_type": "stream",
     "text": [
      "20.210720261490856\n",
      "0.04896027842116832\n"
     ]
    },
    {
     "data": {
      "image/png": "[encoded data removed]",
      "text/plain": [
       "<Figure size 640x480 with 1 Axes>"
      ]
     },
     "metadata": {},
     "output_type": "display_data"
    }
   ],
   "source": [
    "import matplotlib.pyplot as plt\n",
    "u = 25 #初速度\n",
    "a = 80*((np.pi)/180) #theta\n",
    "dt = 0.01  #時間的間隔 也就是euler method 中的 delta t\n",
    "m = 5\n",
    "g = 9.8\n",
    "r = 0.3\n",
    "k = 6*np.pi*r\n",
    "eta_air = 2*10**(-4)\n",
    "T=1000 ##T是總共時間的演進，因此我們要設的較長，以確保能畫出完整的運動，多餘的部分後續再做刪除，\n",
    "\n",
    "####eta air 空氣中的運動軌跡\n",
    "def x_Time(T):\n",
    "    x_0 = 0\n",
    "    x_1 = u*np.cos(a) #x_1=dx/dt  etc..\n",
    "    xf=[]\n",
    "    for t in np.arange(0,T,dt):\n",
    "        x_1 = x_1 - k*eta_air*x_1/m\n",
    "        x_0 = x_0 + x_1*dt\n",
    "        xf.append(x_0)\n",
    "    return xf\n",
    "\n",
    "\n",
    "def y_Time(T):\n",
    "    y_0 = 0 \n",
    "    y_1 = u*np.sin(a)\n",
    "    yf=[]\n",
    "    for t in np.arange(0,T,dt):\n",
    "        y_1 = y_1 - g*dt - k*eta_air*y_1/m\n",
    "        #y_1=dy/dt etc..\n",
    "        y_0 = y_0 + y_1*dt\n",
    "        yf.append(y_0)\n",
    "    return yf\n",
    "\n",
    "\n",
    "xx = x_Time(T)\n",
    "yy = y_Time(T)\n",
    "yy=np.array(yy)\n",
    "xx=np.array(xx)\n",
    "#將List轉換成array以方便進行資料處理\n",
    "yy=yy[yy>=0]\n",
    "#將不合理的數據刪除，y<0 的部分刪除\n",
    "xx=xx[0:yy.size]\n",
    "#因為函數1對1 所以取yy的長度\n",
    "\n",
    "# print(xx.size)\n",
    "# print(yy.size)\n",
    "print(xx[-1])\n",
    "#落地時的x座標\n",
    "print(yy[-1])\n",
    "#落地時的y座標，理論上為趨近0\n",
    "\n",
    "plt.plot(xx,yy)\n",
    "plt.legend\n",
    "plt.show()\n",
    "#繪製運動軌跡\n",
    "\n",
    "\n",
    "\n"
   ]
  },
  {
   "cell_type": "code",
   "execution_count": 43,
   "metadata": {},
   "outputs": [
    {
     "name": "stdout",
     "output_type": "stream",
     "text": [
      "20.037890194786645\n",
      "0.07737076122815736\n"
     ]
    },
    {
     "data": {
      "image/png": "[encoded data removed]",
      "text/plain": [
       "<Figure size 640x480 with 1 Axes>"
      ]
     },
     "metadata": {},
     "output_type": "display_data"
    }
   ],
   "source": [
    "####eta water 水中的運動軌跡\n",
    "u = 132\n",
    "eta_air = eta_water = 10**(-2)\n",
    "\n",
    "xx = x_Time(T)\n",
    "yy = y_Time(T)\n",
    "yy=np.array(yy)\n",
    "xx=np.array(xx)\n",
    "#將List轉換成array以方便進行資料處理\n",
    "yy=yy[yy>=0]\n",
    "#將不合理的數據刪除，y<0 的部分刪除\n",
    "xx=xx[0:yy.size]\n",
    "#因為函數1對1 所以取yy的長度\n",
    "\n",
    "# print(xx.size)\n",
    "# print(yy.size)\n",
    "print(xx[-1])\n",
    "#落地時的x座標\n",
    "print(yy[-1])\n",
    "#落地時的y座標，理論上為趨近0\n",
    "\n",
    "plt.plot(xx,yy)\n",
    "plt.legend\n",
    "plt.show()\n",
    "#繪製運動軌跡\n"
   ]
  }
 ],
 "metadata": {
  "kernelspec": {
   "display_name": "Python 3.10.0 64-bit",
   "language": "python",
   "name": "python3"
  },
  "language_info": {
   "codemirror_mode": {
    "name": "ipython",
    "version": 3
   },
   "file_extension": ".py",
   "mimetype": "text/x-python",
   "name": "python",
   "nbconvert_exporter": "python",
   "pygments_lexer": "ipython3",
   "version": "3.10.0"
  },
  "orig_nbformat": 4,
  "vscode": {
   "interpreter": {
    "hash": "aee8b7b246df8f9039afb4144a1f6fd8d2ca17a180786b69acc140d282b71a49"
   }
  }
 },
 "nbformat": 4,
 "nbformat_minor": 2
}
