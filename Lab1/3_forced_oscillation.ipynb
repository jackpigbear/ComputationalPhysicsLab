{
 "cells": [
  {
   "cell_type": "code",
   "execution_count": 6,
   "metadata": {},
   "outputs": [],
   "source": [
    "import numpy as np\n",
    "import matplotlib.pyplot as plt\n",
    "import mysolver as solver"
   ]
  },
  {
   "cell_type": "markdown",
   "metadata": {},
   "source": [
    "# Forced Oscillation"
   ]
  },
  {
   "cell_type": "code",
   "execution_count": 1,
   "metadata": {},
   "outputs": [],
   "source": [
    "def oscillator(t,y,K,M,L,F0,Wf):\n",
    "        \"\"\"\n",
    "        The derivate function for an oscillator\n",
    "        In this example, we set\n",
    "\n",
    "        y[0] = x\n",
    "        y[1] = v\n",
    "\n",
    "        yderive[0] = x' = v\n",
    "        yderive[1] = v' = a\n",
    "\n",
    "        :param t: the time\n",
    "        :param y: the input values\n",
    "        :param K: the spring constant\n",
    "        :param M: the mass of the oscillator\n",
    "\n",
    "        \"\"\"\n",
    "        yder = np.zeros(len(y))\n",
    "        yder[0] = y[1]\n",
    "        yder[1] = (F0/M)*np.cos(Wf*t)-(L/M)*y[1]-(K/M)*y[0]\n",
    "        return yder"
   ]
  },
  {
   "cell_type": "code",
   "execution_count": null,
   "metadata": {},
   "outputs": [],
   "source": [
    "A=1\n",
    "K=1\n",
    "M=1\n",
    "L=0.2\n",
    "phi=-np.pi/2\n",
    "gamma=(L/(2*M))\n",
    "omega0=np.sqrt(K/M)\n",
    "omega1=np.sqrt(abs(gamma**2-omega0**2))\n",
    "\n",
    "t_span = (0, 20)\n",
    "y0     = np.array([0,A*omega1])\n",
    "t_eval = np.linspace(0,20,1000)"
   ]
  },
  {
   "cell_type": "code",
   "execution_count": null,
   "metadata": {},
   "outputs": [],
   "source": [
    "# TODO: solve the IVP for a forced oscillation"
   ]
  },
  {
   "cell_type": "code",
   "execution_count": null,
   "metadata": {},
   "outputs": [],
   "source": [
    "# TODO: try differnt damping parameters and the forced frequencies "
   ]
  },
  {
   "cell_type": "code",
   "execution_count": null,
   "metadata": {},
   "outputs": [],
   "source": [
    "# TODO: visualize your results"
   ]
  },
  {
   "cell_type": "markdown",
   "metadata": {},
   "source": [
    "# Performance\n",
    "\n",
    "Use the `%timeit` function to compare the performance of different numerical methods"
   ]
  },
  {
   "cell_type": "code",
   "execution_count": null,
   "metadata": {},
   "outputs": [],
   "source": [
    "# TODO: Performance calculations"
   ]
  },
  {
   "cell_type": "markdown",
   "metadata": {},
   "source": [
    "# Use Scipy (`scipy.integreate.solve_ivp`)\n",
    "\n",
    "see https://docs.scipy.org/doc/scipy/reference/generated/scipy.integrate.solve_ivp.html"
   ]
  },
  {
   "cell_type": "code",
   "execution_count": null,
   "metadata": {},
   "outputs": [],
   "source": [
    "import scipy.integrate as ode"
   ]
  },
  {
   "cell_type": "code",
   "execution_count": null,
   "metadata": {},
   "outputs": [],
   "source": [
    "# TODO: use scipy to solve the same ODE"
   ]
  },
  {
   "cell_type": "code",
   "execution_count": null,
   "metadata": {},
   "outputs": [],
   "source": [
    "# TODO: compare the results. Are your own results same as the scipy's result?"
   ]
  },
  {
   "cell_type": "code",
   "execution_count": null,
   "metadata": {},
   "outputs": [],
   "source": [
    "# TODO: compare the performnace. Can you explain your performance results? "
   ]
  }
 ],
 "metadata": {
  "kernelspec": {
   "display_name": "Python 3.10.0 64-bit",
   "language": "python",
   "name": "python3"
  },
  "language_info": {
   "codemirror_mode": {
    "name": "ipython",
    "version": 3
   },
   "file_extension": ".py",
   "mimetype": "text/x-python",
   "name": "python",
   "nbconvert_exporter": "python",
   "pygments_lexer": "ipython3",
   "version": "3.10.0"
  },
  "orig_nbformat": 4,
  "vscode": {
   "interpreter": {
    "hash": "aee8b7b246df8f9039afb4144a1f6fd8d2ca17a180786b69acc140d282b71a49"
   }
  }
 },
 "nbformat": 4,
 "nbformat_minor": 2
}
